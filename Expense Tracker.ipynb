{
 "cells": [
  {
   "cell_type": "code",
   "execution_count": 1,
   "id": "2e574d3d-37a5-4377-b7a0-737629e6802c",
   "metadata": {},
   "outputs": [],
   "source": [
    "def add_expense(expenses, amount, category):\n",
    "    expenses.append({'amount': amount, 'category': category})\n",
    "    \n",
    "def print_expenses(expenses):\n",
    "    for expense in expenses:\n",
    "        print(f'Amount: {expense[\"amount\"]}, Category: {expense[\"category\"]}')\n",
    "    \n",
    "def total_expenses(expenses):\n",
    "    return sum(map(lambda expense: expense['amount'], expenses))\n",
    "    \n",
    "def filter_expenses_by_category(expenses, category):\n",
    "    return filter(lambda expense: expense['category'] == category, expenses)\n",
    "    \n",
    "\n",
    "def main():\n",
    "    expenses = []\n",
    "    while True:\n",
    "        print('\\nExpense Tracker')\n",
    "        print('1. Add an expense')\n",
    "        print('2. List all expenses')\n",
    "        print('3. Show total expenses')\n",
    "        print('4. Filter expenses by category')\n",
    "        print('5. Exit')\n",
    "       \n",
    "        choice = input('Enter your choice: ')\n",
    "\n",
    "        if choice == '1':\n",
    "            amount = float(input('Enter amount: '))\n",
    "            category = input('Enter category: ')\n",
    "            add_expense(expenses, amount, category)\n",
    "\n",
    "        elif choice == '2':\n",
    "            print('\\nAll Expenses:')\n",
    "            print_expenses(expenses)\n",
    "    \n",
    "        elif choice == '3':\n",
    "            print('\\nTotal Expenses: ', total_expenses(expenses))\n",
    "    \n",
    "        elif choice == '4':\n",
    "            category = input('Enter category to filter: ')\n",
    "            print(f'\\nExpenses for {category}:')\n",
    "            expenses_from_category = filter_expenses_by_category(expenses, category)\n",
    "            print_expenses(expenses_from_category)\n",
    "    \n",
    "        elif choice == '5':\n",
    "            print('Exiting the program.')\n",
    "            break"
   ]
  },
  {
   "cell_type": "code",
   "execution_count": 2,
   "id": "431b12b7-afb5-4535-87ec-29c46131215e",
   "metadata": {},
   "outputs": [
    {
     "name": "stdout",
     "output_type": "stream",
     "text": [
      "\n",
      "Expense Tracker\n",
      "1. Add an expense\n",
      "2. List all expenses\n",
      "3. Show total expenses\n",
      "4. Filter expenses by category\n",
      "5. Exit\n"
     ]
    },
    {
     "name": "stdin",
     "output_type": "stream",
     "text": [
      "Enter your choice:  1\n",
      "Enter amount:  25\n",
      "Enter category:  Food\n"
     ]
    },
    {
     "name": "stdout",
     "output_type": "stream",
     "text": [
      "\n",
      "Expense Tracker\n",
      "1. Add an expense\n",
      "2. List all expenses\n",
      "3. Show total expenses\n",
      "4. Filter expenses by category\n",
      "5. Exit\n"
     ]
    },
    {
     "name": "stdin",
     "output_type": "stream",
     "text": [
      "Enter your choice:  1\n",
      "Enter amount:  140\n",
      "Enter category:  travel\n"
     ]
    },
    {
     "name": "stdout",
     "output_type": "stream",
     "text": [
      "\n",
      "Expense Tracker\n",
      "1. Add an expense\n",
      "2. List all expenses\n",
      "3. Show total expenses\n",
      "4. Filter expenses by category\n",
      "5. Exit\n"
     ]
    },
    {
     "name": "stdin",
     "output_type": "stream",
     "text": [
      "Enter your choice:  1\n",
      "Enter amount:  50\n",
      "Enter category:  Misc\n"
     ]
    },
    {
     "name": "stdout",
     "output_type": "stream",
     "text": [
      "\n",
      "Expense Tracker\n",
      "1. Add an expense\n",
      "2. List all expenses\n",
      "3. Show total expenses\n",
      "4. Filter expenses by category\n",
      "5. Exit\n"
     ]
    },
    {
     "name": "stdin",
     "output_type": "stream",
     "text": [
      "Enter your choice:  2\n"
     ]
    },
    {
     "name": "stdout",
     "output_type": "stream",
     "text": [
      "\n",
      "All Expenses:\n",
      "Amount: 25.0, Category: Food\n",
      "Amount: 140.0, Category: travel\n",
      "Amount: 50.0, Category: Misc\n",
      "\n",
      "Expense Tracker\n",
      "1. Add an expense\n",
      "2. List all expenses\n",
      "3. Show total expenses\n",
      "4. Filter expenses by category\n",
      "5. Exit\n"
     ]
    },
    {
     "name": "stdin",
     "output_type": "stream",
     "text": [
      "Enter your choice:  3\n"
     ]
    },
    {
     "name": "stdout",
     "output_type": "stream",
     "text": [
      "\n",
      "Total Expenses:  215.0\n",
      "\n",
      "Expense Tracker\n",
      "1. Add an expense\n",
      "2. List all expenses\n",
      "3. Show total expenses\n",
      "4. Filter expenses by category\n",
      "5. Exit\n"
     ]
    },
    {
     "name": "stdin",
     "output_type": "stream",
     "text": [
      "Enter your choice:  4\n",
      "Enter category to filter:  travel\n"
     ]
    },
    {
     "name": "stdout",
     "output_type": "stream",
     "text": [
      "\n",
      "Expenses for travel:\n",
      "Amount: 140.0, Category: travel\n",
      "\n",
      "Expense Tracker\n",
      "1. Add an expense\n",
      "2. List all expenses\n",
      "3. Show total expenses\n",
      "4. Filter expenses by category\n",
      "5. Exit\n"
     ]
    },
    {
     "name": "stdin",
     "output_type": "stream",
     "text": [
      "Enter your choice:  5\n"
     ]
    },
    {
     "name": "stdout",
     "output_type": "stream",
     "text": [
      "Exiting the program.\n"
     ]
    }
   ],
   "source": [
    "main()"
   ]
  },
  {
   "cell_type": "code",
   "execution_count": null,
   "id": "f598c620-b099-4204-b3d6-661109fd74ed",
   "metadata": {},
   "outputs": [],
   "source": [
    "\"\"\"\n",
    "Let's break down this Python code for a simple expense tracker step by step, explaining each part and the concepts it utilizes.\n",
    "\n",
    "Code Explanation:\n",
    "\n",
    "The code defines a set of functions to manage and track expenses. The main part of the program provides a user interface to interact with these functions.\n",
    "\n",
    "add_expense(expenses, amount, category) Function:\n",
    "\n",
    "Purpose: This function is responsible for adding a new expense to the list of expenses.\n",
    "Parameters:\n",
    "expenses: This is a list where each element will be a dictionary representing an expense.\n",
    "amount: The numerical value of the expense.\n",
    "category: A string describing the category of the expense (e.g., \"Food\", \"Transportation\").\n",
    "Functionality:\n",
    "expenses.append({'amount': amount, 'category': category}): It creates a dictionary with two key-value pairs: 'amount' and 'category', storing the provided amount and category. This dictionary is then appended to the expenses list.\n",
    "print_expenses(expenses) Function:\n",
    "\n",
    "Purpose: This function displays all the expenses that have been added so far.\n",
    "Parameters:\n",
    "expenses: The list of expense dictionaries.\n",
    "Functionality:\n",
    "for expense in expenses:: It iterates through each expense dictionary in the expenses list.\n",
    "print(f'Amount: {expense[\"amount\"]}, Category: {expense[\"category\"]}'): For each expense, it prints the amount and category in a user-friendly format using an f-string for formatted output.\n",
    "total_expenses(expenses) Function:\n",
    "\n",
    "Purpose: This function calculates the total sum of all expenses.\n",
    "Parameters:\n",
    "expenses: The list of expense dictionaries.\n",
    "Functionality:\n",
    "return sum(map(lambda expense: expense['amount'], expenses)): This line does the following:\n",
    "map(lambda expense: expense['amount'], expenses): The map() function applies a given function to each item in an iterable (in this case, the expenses list). The function being applied is a lambda function.\n",
    "Lambda Function: lambda expense: expense['amount'] is a small, anonymous function that takes an expense dictionary as input and returns the value associated with the 'amount' key of that dictionary. It's a concise way to define simple functions.\n",
    "The map() function effectively extracts the 'amount' from each expense dictionary in the expenses list, resulting in an iterable of amounts.\n",
    "sum(...): The sum() function then calculates the sum of all the amounts in the iterable returned by map().\n",
    "filter_expenses_by_category(expenses, category) Function:\n",
    "\n",
    "Purpose: This function filters the expenses based on a specific category.\n",
    "Parameters:\n",
    "expenses: The list of expense dictionaries.\n",
    "category: The category to filter expenses by.\n",
    "Functionality:\n",
    "return filter(lambda expense: expense['category'] == category, expenses): This line uses the filter() function.\n",
    "filter(lambda expense: expense['category'] == category, expenses): The filter() function constructs an iterator from those elements of the expenses list for which the provided function returns True. The function being used here is another lambda function.\n",
    "Lambda Function: lambda expense: expense['category'] == category takes an expense dictionary and returns True if the value of the 'category' key in that dictionary matches the category provided as an argument to the filter_expenses_by_category function. Otherwise, it returns False.\n",
    "The filter() function returns an iterator containing only the expense dictionaries that belong to the specified category.\n",
    "main() Function:\n",
    "\n",
    "Purpose: This is the main function that runs the expense tracker program and provides the user interface.\n",
    "Initialization:\n",
    "expenses = []: Initializes an empty list called expenses to store the expense dictionaries.\n",
    "Main Loop (while True):\n",
    "while True:: This creates an infinite loop that continues until the user explicitly chooses to exit.\n",
    "Menu Display: Inside the loop, it prints a menu of options to the user:\n",
    "Add an expense\n",
    "List all expenses\n",
    "Show total expenses\n",
    "Filter expenses by category\n",
    "Exit\n",
    "User Input:\n",
    "choice = input('Enter your choice: '): Prompts the user to enter their choice and stores it in the choice variable.\n",
    "Conditional Logic (if-elif-else): Based on the user's choice, the program performs different actions:\n",
    "if choice == '1' (Add an expense):\n",
    "Prompts the user to enter the amount and category.\n",
    "Calls the add_expense() function to add the new expense to the expenses list.\n",
    "elif choice == '2' (List all expenses):\n",
    "Prints \"All Expenses:\".\n",
    "Calls the print_expenses() function to display the current expenses.\n",
    "elif choice == '3' (Show total expenses):\n",
    "Prints \"Total Expenses: \" followed by the result of calling the total_expenses() function.\n",
    "elif choice == '4' (Filter expenses by category):\n",
    "Prompts the user to enter the category to filter.\n",
    "Prints \"Expenses for {category}:\".\n",
    "Calls the filter_expenses_by_category() function to get an iterator of filtered expenses.\n",
    "Calls the print_expenses() function to display the filtered expenses.\n",
    "elif choice == '5' (Exit):\n",
    "Prints \"Exiting the program.\"\n",
    "break: Exits the while loop, terminating the program.\n",
    "Invalid Choice: If the user enters an invalid choice (not 1-5), the loop continues, and the menu is displayed again.\n",
    "main(): The last line of the code calls the main() function to start the program execution.\n",
    "Elaboration on Related Concepts:\n",
    "\n",
    "Lambda Function:\n",
    "\n",
    "A lambda function is a small, anonymous function defined using the lambda keyword.\n",
    "It can have any number of arguments but can only have one expression. The result of the expression is the return value of the lambda function.   \n",
    "They are often used for short, simple operations where a full function definition would be too verbose. In this code, they are used with map() and filter() for concise logic.\n",
    "map() Function:\n",
    "\n",
    "The map() function applies a given function to each item of an iterable (like a list, tuple, etc.).\n",
    "It returns an iterator that yields the results of applying the function to each item.\n",
    "In this code, map(lambda expense: expense['amount'], expenses) applies the lambda function (which extracts the 'amount') to each expense dictionary in the expenses list, effectively creating an iterable of just the amounts.\n",
    "filter() Function:\n",
    "\n",
    "The filter() function constructs an iterator from those elements of an iterable for which a function returns True.\n",
    "It takes a function and an iterable as arguments. The function is applied to each element of the iterable, and only the elements for which the function returns True are included in the resulting iterator.   \n",
    "In this code, filter(lambda expense: expense['category'] == category, expenses) keeps only the expense dictionaries whose 'category' matches the specified category.\n",
    "while Loop:\n",
    "\n",
    "A while loop executes a block of code repeatedly as long as a specified condition is true.\n",
    "In this program, while True: creates an infinite loop that continues until the break statement is encountered.\n",
    "break Statement:\n",
    "\n",
    "The break statement is used to exit a loop prematurely.\n",
    "In this code, when the user chooses option '5' (Exit), the break statement inside the if choice == '5' block terminates the while True loop, and the program ends.\n",
    "How to Run the Code:\n",
    "\n",
    "Save the code in a Python file (e.g., expense_tracker.py).\n",
    "Open a terminal or command prompt.\n",
    "Navigate to the directory where you saved the file.\n",
    "Run the script using the command: python expense_tracker.py\n",
    "Follow the prompts in the terminal to interact with the expense tracker. You can add expenses, view them, calculate the total, filter by category, and exit the program.\n",
    "This detailed explanation should give you a good understanding of how the expense tracker code works and the fundamental Python concepts it utilizes.\n",
    "\"\"\""
   ]
  }
 ],
 "metadata": {
  "kernelspec": {
   "display_name": "Python 3 (ipykernel)",
   "language": "python",
   "name": "python3"
  },
  "language_info": {
   "codemirror_mode": {
    "name": "ipython",
    "version": 3
   },
   "file_extension": ".py",
   "mimetype": "text/x-python",
   "name": "python",
   "nbconvert_exporter": "python",
   "pygments_lexer": "ipython3",
   "version": "3.12.6"
  }
 },
 "nbformat": 4,
 "nbformat_minor": 5
}
