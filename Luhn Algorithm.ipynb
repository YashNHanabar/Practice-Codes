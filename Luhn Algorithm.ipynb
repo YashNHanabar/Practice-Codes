{
 "cells": [
  {
   "cell_type": "code",
   "execution_count": 2,
   "id": "82333a36-15a2-4eb0-96ad-f4b31436b070",
   "metadata": {},
   "outputs": [
    {
     "name": "stdout",
     "output_type": "stream",
     "text": [
      "50\n",
      "VALID!\n"
     ]
    }
   ],
   "source": [
    "def verify_card_number(card_number):\n",
    "    sum_of_odd_digits = 0\n",
    "    card_number_reversed = card_number[::-1]\n",
    "    odd_digits = card_number_reversed[::2]\n",
    "\n",
    "    for digit in odd_digits:\n",
    "        sum_of_odd_digits += int(digit)\n",
    "\n",
    "    sum_of_even_digits = 0\n",
    "    even_digits = card_number_reversed[1::2]\n",
    "    for digit in even_digits:\n",
    "        number = int(digit) * 2\n",
    "        if number >= 10:\n",
    "            number = (number // 10) + (number % 10)\n",
    "        sum_of_even_digits += number\n",
    "    total = sum_of_odd_digits + sum_of_even_digits\n",
    "    print(total)\n",
    "    return total % 10 == 0\n",
    "\n",
    "def main():\n",
    "    card_number = '4111-1111-4555-1142'\n",
    "    card_translation = str.maketrans({'-': '', ' ': ''})\n",
    "    translated_card_number = card_number.translate(card_translation)\n",
    "\n",
    "    if verify_card_number(translated_card_number):\n",
    "        print('VALID!')\n",
    "    else:\n",
    "        print('INVALID!')\n",
    "\n",
    "main()"
   ]
  },
  {
   "cell_type": "code",
   "execution_count": null,
   "id": "8dafce60-6b5d-4423-9187-1afe1f70f378",
   "metadata": {},
   "outputs": [],
   "source": [
    "\"\"\"The code aims to validate a credit card number using the Luhn algorithm. It consists of two main functions: verify_card_number and main.\n",
    "\n",
    "verify_card_number(card_number) Function:\n",
    "\n",
    "Initialization:\n",
    "sum_of_odd_digits = 0: Initializes a variable to store the sum of odd-positioned digits.\n",
    "card_number_reversed = card_number[::-1]: Reverses the card number string. This is crucial as the Luhn algorithm works from right to left.\n",
    "odd_digits = card_number_reversed[::2]: Extracts the odd-positioned digits from the reversed string (starting from the rightmost digit).\n",
    "Sum of Odd Digits:\n",
    "The code iterates through the odd_digits string.\n",
    "sum_of_odd_digits += int(digit): Each odd digit is converted to an integer and added to sum_of_odd_digits.\n",
    "Sum of Even Digits:\n",
    "sum_of_even_digits = 0: Initializes a variable to store the sum of processed even-positioned digits.\n",
    "even_digits = card_number_reversed[1::2]: Extracts the even-positioned digits from the reversed string.\n",
    "The code iterates through the even_digits string.\n",
    "number = int(digit) * 2: Each even digit is converted to an integer and doubled.\n",
    "Handling Doubled Digits:\n",
    "if number >= 10: If the doubled number is 10 or greater, its digits are added together.\n",
    "number = (number // 10) + (number % 10): Integer division (//) and modulo (%) are used to extract and add the digits. For example, if number is 12, 12 // 10 is 1, and 12 % 10 is 2, so number becomes 1 + 2 = 3.\n",
    "sum_of_even_digits += number: The processed doubled digit is added to sum_of_even_digits.\n",
    "Total Sum and Validation:\n",
    "total = sum_of_odd_digits + sum_of_even_digits: The sums of odd and even digits are added together.\n",
    "print(total): the total sum is printed to the console.\n",
    "return total % 10 == 0: The function returns True if the total is a multiple of 10 (i.e., total % 10 is 0), indicating a valid card number according to the Luhn algorithm; otherwise, it returns False.\n",
    "main() Function:\n",
    "\n",
    "Card Number:\n",
    "card_number = '4111-1111-4555-1141': Defines the credit card number to be validated.\n",
    "Removing Dashes and Spaces:\n",
    "card_translation = str.maketrans({'-': '', ' ': ''}): Creates a translation table to remove dashes and spaces.\n",
    "translated_card_number = card_number.translate(card_translation): Applies the translation to the card number, removing the formatting.\n",
    "Validation and Output:\n",
    "if verify_card_number(translated_card_number): Calls the verify_card_number function to validate the cleaned card number.\n",
    "Based on the result, it prints \"VALID!\" or \"INVALID!\".\n",
    "Luhn Algorithm Connection\n",
    "\n",
    "The verify_card_number function implements the Luhn algorithm precisely:\n",
    "\n",
    "It processes the card number from right to left.\n",
    "It doubles every other digit (starting from the second-to-last digit).\n",
    "It handles doubled digits that are greater than 9 by summing their individual digits.\n",
    "It sums all the processed digits.\n",
    "It checks if the total sum is a multiple of 10.\n",
    "In essence:\n",
    "\n",
    "The code simulates the manual steps of the Luhn algorithm, automating the process of validating credit card numbers (or other identification numbers) for simple errors.\n",
    "\"\"\""
   ]
  }
 ],
 "metadata": {
  "kernelspec": {
   "display_name": "Python 3 (ipykernel)",
   "language": "python",
   "name": "python3"
  },
  "language_info": {
   "codemirror_mode": {
    "name": "ipython",
    "version": 3
   },
   "file_extension": ".py",
   "mimetype": "text/x-python",
   "name": "python",
   "nbconvert_exporter": "python",
   "pygments_lexer": "ipython3",
   "version": "3.12.6"
  }
 },
 "nbformat": 4,
 "nbformat_minor": 5
}
