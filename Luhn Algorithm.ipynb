{
 "cells": [
  {
   "cell_type": "code",
   "execution_count": null,
   "id": "82333a36-15a2-4eb0-96ad-f4b31436b070",
   "metadata": {},
   "outputs": [],
   "source": []
  }
 ],
 "metadata": {
  "kernelspec": {
   "display_name": "",
   "name": ""
  },
  "language_info": {
   "name": ""
  }
 },
 "nbformat": 4,
 "nbformat_minor": 5
}
